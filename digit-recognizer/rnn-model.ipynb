{
 "cells": [
  {
   "cell_type": "code",
   "execution_count": 1,
   "metadata": {},
   "outputs": [],
   "source": [
    "# import libraries\n",
    "import numpy as np\n",
    "import pandas as pd\n",
    "import matplotlib.pyplot as plt\n",
    "import torch\n",
    "import torch.nn as nn\n",
    "from torch.autograd import Variable\n",
    "from sklearn.model_selection import train_test_split\n",
    "from torch.utils.data import DataLoader, TensorDataset"
   ]
  },
  {
   "cell_type": "code",
   "execution_count": 2,
   "metadata": {},
   "outputs": [],
   "source": [
    "# import data\n",
    "train_df = pd.read_csv('train.csv', dtype=np.float32)\n",
    "test_df = pd.read_csv('test.csv', dtype=np.float32)\n",
    "\n",
    "# separate features/labels\n",
    "targets_np = train_df.label.values\n",
    "features_np = train_df.loc[:, train_df.columns != 'label'].values/255\n",
    "\n",
    "# split train/dev sets\n",
    "features_train, features_dev, targets_train, targets_dev = train_test_split(\n",
    "    features_np, targets_np, test_size=0.025, random_state=42)\n",
    "\n",
    "# create tensors\n",
    "features_train_tensor = torch.from_numpy(features_train)\n",
    "targets_train_tensor = torch.from_numpy(targets_train).type(torch.LongTensor)\n",
    "features_dev_tensor = torch.from_numpy(features_dev)\n",
    "targets_dev_tensor = torch.from_numpy(targets_dev).type(torch.LongTensor)\n",
    "\n",
    "# batch size, iterations, epochs\n",
    "batch_size = 100\n",
    "n_iters = 10000\n",
    "num_epochs = int(n_iters / (len(features_train_tensor) / batch_size))\n",
    "\n",
    "# create tensor datasets\n",
    "train_dataset = TensorDataset(features_train_tensor, targets_train_tensor)\n",
    "dev_dataset = TensorDataset(features_dev_tensor, targets_dev_tensor)\n",
    "\n",
    "# data loaders\n",
    "train_dataloader = DataLoader(train_dataset, batch_size=batch_size, shuffle=False)\n",
    "dev_dataloader = DataLoader(dev_dataset, batch_size=batch_size, shuffle=False)"
   ]
  },
  {
   "cell_type": "code",
   "execution_count": 3,
   "metadata": {},
   "outputs": [
    {
     "data": {
      "text/plain": [
       "<matplotlib.image.AxesImage at 0x1246a6978>"
      ]
     },
     "execution_count": 3,
     "metadata": {},
     "output_type": "execute_result"
    },
    {
     "data": {
      "image/png": "[encoded data removed]",
      "text/plain": [
       "<Figure size 432x288 with 1 Axes>"
      ]
     },
     "metadata": {
      "needs_background": "light"
     },
     "output_type": "display_data"
    }
   ],
   "source": [
    "# visualize an item in the dataset\n",
    "plt.imshow(features_np[10].reshape(28,28))"
   ]
  },
  {
   "cell_type": "code",
   "execution_count": 4,
   "metadata": {},
   "outputs": [],
   "source": [
    "# RNN Model\n",
    "class RNNModel(nn.Module):\n",
    "    def __init__(self, input_dim, hidden_dim, layer_dim, output_dim):\n",
    "        super(RNNModel, self).__init__()\n",
    "        \n",
    "        # input dimensions (28x28)\n",
    "        self.input_dim = input_dim\n",
    "        \n",
    "        # number of units in hidden layer\n",
    "        self.hidden_dim = hidden_dim\n",
    "        \n",
    "        # number of layers\n",
    "        self.layer_dim = layer_dim\n",
    "        \n",
    "        # RNN\n",
    "        self.rnn = nn.RNN(input_dim, hidden_dim, layer_dim, batch_first=True, nonlinearity='relu')\n",
    "        \n",
    "        # output layer (fully-connected)\n",
    "        self.fc = nn.Linear(hidden_dim, output_dim)\n",
    "        \n",
    "    def forward(self, x):\n",
    "        # initialize hidden state with 0s\n",
    "        h0 = Variable(torch.zeros(self.layer_dim, x.size(0), self.hidden_dim))\n",
    "        \n",
    "        # one-step\n",
    "        out, hn = self.rnn(x, h0)\n",
    "        out = self.fc(out[:, -1, :])\n",
    "        return out"
   ]
  },
  {
   "cell_type": "code",
   "execution_count": 5,
   "metadata": {},
   "outputs": [],
   "source": [
    "# Create RNN\n",
    "input_dim = 28\n",
    "hidden_dim = 100\n",
    "layer_dim = 1\n",
    "output_dim = 10\n",
    "learning_rate = 0.05\n",
    "\n",
    "model = RNNModel(input_dim, hidden_dim, layer_dim, output_dim)\n",
    "error = nn.CrossEntropyLoss()\n",
    "optimizer = torch.optim.SGD(model.parameters(), lr=learning_rate)"
   ]
  },
  {
   "cell_type": "code",
   "execution_count": 6,
   "metadata": {},
   "outputs": [
    {
     "name": "stdout",
     "output_type": "stream",
     "text": [
      "Iteration: 500, Loss: 1.9485975503921509, Accuracy: 33.0\n",
      "Iteration: 1000, Loss: 0.9404590725898743, Accuracy: 58.0\n",
      "Iteration: 1500, Loss: 0.541139543056488, Accuracy: 87.0\n",
      "Iteration: 2000, Loss: 0.6397339701652527, Accuracy: 93.0\n",
      "Iteration: 2500, Loss: 0.24719342589378357, Accuracy: 95.0\n",
      "Iteration: 3000, Loss: 0.4211540222167969, Accuracy: 98.0\n",
      "Iteration: 3500, Loss: 0.15771137177944183, Accuracy: 97.0\n",
      "Iteration: 4000, Loss: 0.1352563500404358, Accuracy: 100.0\n",
      "Iteration: 4500, Loss: 0.20350202918052673, Accuracy: 96.0\n",
      "Iteration: 5000, Loss: 0.05750627815723419, Accuracy: 100.0\n",
      "Iteration: 5500, Loss: 0.07498563826084137, Accuracy: 98.0\n",
      "Iteration: 6000, Loss: 0.14936000108718872, Accuracy: 99.0\n",
      "Iteration: 6500, Loss: 0.1463417261838913, Accuracy: 98.0\n",
      "Iteration: 7000, Loss: 0.09371471405029297, Accuracy: 98.0\n",
      "Iteration: 7500, Loss: 0.14179153740406036, Accuracy: 97.0\n",
      "Iteration: 8000, Loss: 0.1650865226984024, Accuracy: 99.0\n",
      "Iteration: 8500, Loss: 0.05050913989543915, Accuracy: 100.0\n",
      "Iteration: 9000, Loss: 0.11369837820529938, Accuracy: 98.0\n",
      "Iteration: 9500, Loss: 0.1281689703464508, Accuracy: 97.0\n"
     ]
    }
   ],
   "source": [
    "# training\n",
    "seq_dim = 28 # (28, input_dim) = (28,28)\n",
    "loss_list = []\n",
    "iteration_list = []\n",
    "accuracy_list = []\n",
    "count = 0\n",
    "\n",
    "for epoch in range(num_epochs):\n",
    "    for i, (images, labels) in enumerate(train_dataloader):\n",
    "        \n",
    "        # reshape input to (28,28)\n",
    "        train_images = Variable(images.view(-1, seq_dim, input_dim))\n",
    "        train_labels = Variable(labels)\n",
    "        \n",
    "        # clear gradients\n",
    "        optimizer.zero_grad()\n",
    "        \n",
    "        # forward propagation\n",
    "        output = model(train_images)\n",
    "        \n",
    "        # calculate loss\n",
    "        loss = error(output, train_labels)\n",
    "        \n",
    "        # backpropgation\n",
    "        loss.backward()\n",
    "        \n",
    "        # update parameters (gradient descent)\n",
    "        optimizer.step()\n",
    "        \n",
    "        count += 1\n",
    "        \n",
    "        # evaluate model accuracy every 250 iterations\n",
    "        if count % 250 == 0:\n",
    "            correct, total = 0, 0\n",
    "            for dev_images, dev_labels in dev_dataloader:\n",
    "                train_images = Variable(images.view(-1, seq_dim, input_dim))\n",
    "                \n",
    "                # forward propagation\n",
    "                output = model(train_images)\n",
    "                \n",
    "                # get predictions\n",
    "                predicted = torch.max(output.data, 1)[1]\n",
    "                \n",
    "                # track accuracy\n",
    "                total += labels.size(0)\n",
    "                correct += (predicted == labels).sum()\n",
    "                \n",
    "            accuracy = 100 * (correct / float(total))\n",
    "            \n",
    "            accuracy_list.append(accuracy)\n",
    "            loss_list.append(loss.data)\n",
    "            iteration_list.append(count)\n",
    "            \n",
    "            if count % 500 == 0:\n",
    "                print(f'Iteration: {count}, Loss: {loss.data.item()}, Accuracy: {accuracy}')\n",
    "                \n"
   ]
  },
  {
   "cell_type": "code",
   "execution_count": 8,
   "metadata": {},
   "outputs": [
    {
     "data": {
      "image/png": "[encoded data removed]",
      "text/plain": [
       "<Figure size 432x288 with 1 Axes>"
      ]
     },
     "metadata": {
      "needs_background": "light"
     },
     "output_type": "display_data"
    },
    {
     "data": {
      "text/plain": [
       "Text(0.5,1,'RNN: Accuracy vs Number of iteration')"
      ]
     },
     "execution_count": 8,
     "metadata": {},
     "output_type": "execute_result"
    },
    {
     "data": {
      "image/png": "[encoded data removed]",
      "text/plain": [
       "<Figure size 432x288 with 1 Axes>"
      ]
     },
     "metadata": {
      "needs_background": "light"
     },
     "output_type": "display_data"
    }
   ],
   "source": [
    "# visualization loss \n",
    "plt.plot(iteration_list,loss_list)\n",
    "plt.xlabel(\"Number of iteration\")\n",
    "plt.ylabel(\"Loss\")\n",
    "plt.title(\"RNN: Loss vs Number of iteration\")\n",
    "plt.show()\n",
    "\n",
    "# visualization accuracy \n",
    "plt.plot(iteration_list,accuracy_list,color = \"red\")\n",
    "plt.xlabel(\"Number of iteration\")\n",
    "plt.ylabel(\"Accuracy\")\n",
    "plt.title(\"RNN: Accuracy vs Number of iteration\")"
   ]
  },
  {
   "cell_type": "code",
   "execution_count": null,
   "metadata": {},
   "outputs": [],
   "source": []
  }
 ],
 "metadata": {
  "kernelspec": {
   "display_name": "Python 3",
   "language": "python",
   "name": "python3"
  },
  "language_info": {
   "codemirror_mode": {
    "name": "ipython",
    "version": 3
   },
   "file_extension": ".py",
   "mimetype": "text/x-python",
   "name": "python",
   "nbconvert_exporter": "python",
   "pygments_lexer": "ipython3",
   "version": "3.7.0"
  }
 },
 "nbformat": 4,
 "nbformat_minor": 4
}
