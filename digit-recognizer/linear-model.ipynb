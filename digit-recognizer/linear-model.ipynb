{
 "cells": [
  {
   "cell_type": "code",
   "execution_count": 1,
   "metadata": {},
   "outputs": [],
   "source": [
    "import csv\n",
    "import torch\n",
    "import numpy as np\n",
    "import pandas as pd\n",
    "from time import time\n",
    "from matplotlib import pyplot as plt\n",
    "from torch import nn, optim\n",
    "from torch.nn import functional as F\n",
    "from torch.autograd import Variable\n",
    "from torchvision import datasets, transforms\n",
    "from sklearn.model_selection import train_test_split"
   ]
  },
  {
   "cell_type": "code",
   "execution_count": 2,
   "metadata": {},
   "outputs": [],
   "source": [
    "# read in raw csv data\n",
    "train_data_raw = pd.read_csv('train.csv')\n",
    "test_data = pd.read_csv('test.csv')\n",
    "\n",
    "# split to train and dev set\n",
    "train_data, dev_data = train_test_split(train_data_raw, test_size=0.025)\n",
    "\n",
    "# split out labels\n",
    "train_y = train_data['label']\n",
    "train_x = train_data.drop('label', axis=1)\n",
    "\n",
    "dev_y = dev_data['label']\n",
    "dev_x = dev_data.drop('label', axis=1)\n",
    "\n",
    "# convert to tensors\n",
    "train_x_tensor = torch.Tensor(train_x.values)\n",
    "train_y_tensor = torch.Tensor(train_y.values).type(torch.LongTensor)\n",
    "\n",
    "dev_x_tensor = torch.Tensor(dev_x.values)\n",
    "dev_y_tensor = torch.Tensor(dev_y.values).type(torch.LongTensor)\n",
    "\n",
    "test_tensor = torch.Tensor(test_data.values)"
   ]
  },
  {
   "cell_type": "code",
   "execution_count": 3,
   "metadata": {},
   "outputs": [],
   "source": [
    "# set up dataloaders\n",
    "dataloader_train_x = torch.utils.data.DataLoader(train_x_tensor, batch_size=64)\n",
    "dataloader_train_y = torch.utils.data.DataLoader(train_y_tensor, batch_size=64)\n",
    "\n",
    "dataloader_dev_x = torch.utils.data.DataLoader(dev_x_tensor, batch_size=64)\n",
    "dataloader_dev_y = torch.utils.data.DataLoader(dev_y_tensor, batch_size=64)\n",
    "\n",
    "dataloader_test = torch.utils.data.DataLoader(test_tensor, batch_size=64)"
   ]
  },
  {
   "cell_type": "code",
   "execution_count": 16,
   "metadata": {},
   "outputs": [
    {
     "name": "stdout",
     "output_type": "stream",
     "text": [
      "Sequential(\n",
      "  (0): Linear(in_features=784, out_features=256, bias=True)\n",
      "  (1): ReLU()\n",
      "  (2): Linear(in_features=256, out_features=128, bias=True)\n",
      "  (3): ReLU()\n",
      "  (4): Linear(in_features=128, out_features=64, bias=True)\n",
      "  (5): ReLU()\n",
      "  (6): LogSoftmax(dim=1)\n",
      ")\n"
     ]
    }
   ],
   "source": [
    "# logistic regression model\n",
    "input_size = 784 # 784 pixels\n",
    "hidden_sizes = [256, 128, 64] # number of hidden units in each layer\n",
    "output_size = 10 # 10 possible digits\n",
    "\n",
    "model = nn.Sequential(nn.Linear(input_size, hidden_sizes[0]),\n",
    "                      nn.ReLU(),\n",
    "                      nn.Linear(hidden_sizes[0], hidden_sizes[1]),\n",
    "                      nn.ReLU(),\n",
    "                      nn.Linear(hidden_sizes[1], hidden_sizes[2]),\n",
    "                      nn.ReLU(),                                        \n",
    "                      nn.LogSoftmax(dim=1))\n",
    "print(model)"
   ]
  },
  {
   "cell_type": "code",
   "execution_count": 17,
   "metadata": {},
   "outputs": [
    {
     "name": "stdout",
     "output_type": "stream",
     "text": [
      "Iteration: 100, Accuracy: 84.19047619047619\n",
      "Iteration: 200, Accuracy: 88.57142857142857\n",
      "Iteration: 300, Accuracy: 89.14285714285714\n",
      "Iteration: 400, Accuracy: 91.71428571428571\n",
      "Iteration: 500, Accuracy: 91.04761904761905\n",
      "Iteration: 600, Accuracy: 92.85714285714286\n",
      "Iteration: 700, Accuracy: 92.19047619047619\n",
      "Iteration: 800, Accuracy: 93.61904761904762\n",
      "Iteration: 900, Accuracy: 93.14285714285714\n",
      "Iteration: 1000, Accuracy: 94.0952380952381\n",
      "Iteration: 1100, Accuracy: 94.0\n",
      "Iteration: 1200, Accuracy: 94.76190476190476\n",
      "Iteration: 1300, Accuracy: 94.38095238095238\n",
      "Iteration: 1400, Accuracy: 94.47619047619048\n",
      "Iteration: 1500, Accuracy: 95.33333333333333\n",
      "Iteration: 1600, Accuracy: 94.19047619047619\n",
      "Iteration: 1700, Accuracy: 94.57142857142857\n",
      "Iteration: 1800, Accuracy: 95.23809523809524\n",
      "Iteration: 1900, Accuracy: 95.04761904761905\n",
      "Iteration: 2000, Accuracy: 95.23809523809524\n",
      "Iteration: 2100, Accuracy: 95.42857142857143\n",
      "Iteration: 2200, Accuracy: 94.57142857142857\n",
      "Iteration: 2300, Accuracy: 95.71428571428571\n",
      "Iteration: 2400, Accuracy: 95.04761904761905\n",
      "Iteration: 2500, Accuracy: 96.19047619047619\n",
      "Iteration: 2600, Accuracy: 95.80952380952381\n",
      "Iteration: 2700, Accuracy: 95.52380952380952\n",
      "Iteration: 2800, Accuracy: 95.42857142857143\n",
      "Iteration: 2900, Accuracy: 94.47619047619048\n",
      "Iteration: 3000, Accuracy: 95.42857142857143\n",
      "Iteration: 3100, Accuracy: 95.80952380952381\n",
      "Iteration: 3200, Accuracy: 96.19047619047619\n",
      "Training Time: 22.22565484046936 seconds\n"
     ]
    }
   ],
   "source": [
    "# training\n",
    "error =  nn.NLLLoss()\n",
    "optimizer = optim.SGD(model.parameters(), lr=0.001)\n",
    "epochs = 5\n",
    "\n",
    "loss_list = []\n",
    "iteration_list = []\n",
    "accuracy_list = []\n",
    "\n",
    "start_time = time()\n",
    "count = 0\n",
    "\n",
    "for e in range(epochs):\n",
    "    for images, labels in zip(dataloader_train_x, dataloader_train_y):\n",
    "        \n",
    "        optimizer.zero_grad()\n",
    "        \n",
    "        # forward pass       \n",
    "        output = model(images)\n",
    "        \n",
    "        # calculate loss\n",
    "        loss = error(output, labels)\n",
    "        \n",
    "        # backprop\n",
    "        loss.backward()\n",
    "        \n",
    "        # step of stochastic gradient descent\n",
    "        optimizer.step()\n",
    "\n",
    "        count += 1\n",
    "        \n",
    "        if count % 100 == 0:\n",
    "            \n",
    "            # Calculate Accuracy         \n",
    "            correct = 0\n",
    "            total = 0\n",
    "            \n",
    "            # Iterate through dev dataset\n",
    "            correct_count, all_count = 0, 0\n",
    "\n",
    "            for images, labels in zip(dataloader_dev_x, dataloader_dev_y):\n",
    "                for i in range(len(labels)):\n",
    "                    with torch.no_grad():\n",
    "                        img = images[i].view(1,784)\n",
    "                        output = model(img)\n",
    "                    ps = torch.exp(output)\n",
    "                    prob = list(ps.numpy()[0])\n",
    "                    predicted_label = prob.index(max(prob))\n",
    "                    true_label = labels.numpy()[i]\n",
    "                    if predicted_label == true_label:\n",
    "                        correct_count += 1\n",
    "                    all_count += 1\n",
    "            \n",
    "            accuracy = 100 * correct_count / float(all_count)\n",
    "            \n",
    "            # store loss and iteration\n",
    "            loss_list.append(loss.data)\n",
    "            iteration_list.append(count)\n",
    "            accuracy_list.append(accuracy)\n",
    "            print(f'Iteration: {count}, Accuracy: {accuracy}')\n",
    "       \n",
    "training_time = time() - start_time\n",
    "print(f'Training Time: {training_time} seconds')\n",
    "        \n",
    "        "
   ]
  },
  {
   "cell_type": "code",
   "execution_count": 18,
   "metadata": {},
   "outputs": [
    {
     "data": {
      "image/png": "[encoded data removed]",
      "text/plain": [
       "<Figure size 432x288 with 1 Axes>"
      ]
     },
     "metadata": {
      "needs_background": "light"
     },
     "output_type": "display_data"
    },
    {
     "data": {
      "image/png": "[encoded data removed]",
      "text/plain": [
       "<Figure size 432x288 with 1 Axes>"
      ]
     },
     "metadata": {
      "needs_background": "light"
     },
     "output_type": "display_data"
    }
   ],
   "source": [
    "# visualization loss \n",
    "plt.plot(iteration_list,loss_list)\n",
    "plt.xlabel(\"Number of iteration\")\n",
    "plt.ylabel(\"Loss\")\n",
    "plt.title(\"Loss vs Number of iteration\")\n",
    "plt.show()\n",
    "\n",
    "# visualization accuracy \n",
    "plt.plot(iteration_list,accuracy_list,color = \"red\")\n",
    "plt.xlabel(\"Number of iteration\")\n",
    "plt.ylabel(\"Accuracy\")\n",
    "plt.title(\"Accuracy vs Number of iteration\")\n",
    "plt.show()"
   ]
  },
  {
   "cell_type": "code",
   "execution_count": 19,
   "metadata": {},
   "outputs": [
    {
     "name": "stdout",
     "output_type": "stream",
     "text": [
      "Number Of Images Tested = 1050\n",
      "\n",
      "Model Accuracy = 0.9619047619047619\n"
     ]
    }
   ],
   "source": [
    "# test on dev set\n",
    "correct_count, all_count = 0, 0\n",
    "\n",
    "for images, labels in zip(dataloader_dev_x, dataloader_dev_y):\n",
    "    for i in range(len(labels)):\n",
    "        with torch.no_grad():\n",
    "            img = images[i].view(1,784)\n",
    "            output = model(img)\n",
    "        ps = torch.exp(output)\n",
    "        prob = list(ps.numpy()[0])\n",
    "        predicted_label = prob.index(max(prob))\n",
    "        true_label = labels.numpy()[i]\n",
    "        if predicted_label == true_label:\n",
    "            correct_count += 1\n",
    "        all_count += 1\n",
    "\n",
    "print(\"Number Of Images Tested =\", all_count)\n",
    "print(\"\\nModel Accuracy =\", (correct_count/all_count))"
   ]
  },
  {
   "cell_type": "code",
   "execution_count": 22,
   "metadata": {},
   "outputs": [],
   "source": [
    "# save model\n",
    "torch.save(model, './digit-recognizer-model.pt') "
   ]
  },
  {
   "cell_type": "code",
   "execution_count": 13,
   "metadata": {},
   "outputs": [
    {
     "name": "stdout",
     "output_type": "stream",
     "text": [
      "Saved predictions to file: submission.csv\n"
     ]
    }
   ],
   "source": [
    "# predictions\n",
    "predictions = []\n",
    "\n",
    "for images in dataloader_test:\n",
    "    for i in range(len(images)):\n",
    "        with torch.no_grad():\n",
    "            img = images[i].view(1, 784)\n",
    "            output = model(img)\n",
    "        ps = torch.exp(output)\n",
    "        prob = list(ps.numpy()[0])\n",
    "        predicted_label = prob.index(max(prob))\n",
    "        predictions.append(predicted_label)\n",
    "\n",
    "# save to csv\n",
    "with open('submission.csv', 'w') as csv_file:\n",
    "    csvwriter = csv.writer(csv_file, delimiter=',')\n",
    "    csvwriter.writerow(['ImageId','Label'])\n",
    "    for i, label in enumerate(predictions):\n",
    "        image_id = i+1\n",
    "        csvwriter.writerow([image_id, label])\n",
    "\n",
    "print('Saved predictions to file: submission.csv')"
   ]
  },
  {
   "cell_type": "code",
   "execution_count": null,
   "metadata": {},
   "outputs": [],
   "source": []
  }
 ],
 "metadata": {
  "kernelspec": {
   "display_name": "Python 3",
   "language": "python",
   "name": "python3"
  },
  "language_info": {
   "codemirror_mode": {
    "name": "ipython",
    "version": 3
   },
   "file_extension": ".py",
   "mimetype": "text/x-python",
   "name": "python",
   "nbconvert_exporter": "python",
   "pygments_lexer": "ipython3",
   "version": "3.7.0"
  }
 },
 "nbformat": 4,
 "nbformat_minor": 4
}
